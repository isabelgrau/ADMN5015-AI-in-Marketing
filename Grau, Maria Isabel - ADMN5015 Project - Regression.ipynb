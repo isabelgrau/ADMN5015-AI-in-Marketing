{
 "cells": [
  {
   "attachments": {
    "image.png": {
     "image/png": "[encoded data removed]"
    }
   },
   "cell_type": "markdown",
   "id": "0798a038",
   "metadata": {},
   "source": [
    "![image.png](attachment:image.png)\n",
    "## ADMN5015: Artificial Intelligence in Marketing\n",
    "### Regression Project\n",
    "Maria Isabel Dio Grau"
   ]
  },
  {
   "cell_type": "markdown",
   "id": "0353cc81",
   "metadata": {},
   "source": [
    "<i>This Python notebook contains a combination of markdown text and code block comments that explain the tasks being executed.</i><br>\n",
    "***\n",
    "This program aims to perform the following tasks (each line is linked to the code block that executes the corresponding step):\n",
    "1. <a href='#extract'>Extract data</a>\n",
    "2. <a href='#createdf'>Create a dataset using the extracted data</a>\n",
    "3. <a href='#csv'>Save the dataset as a csv</a>\n",
    "4. Upload csv file to Github (This step is done manually, but is necessary in order to execute step 5.)\n",
    "5. <a href='#downloadcsv'>Download the csv file from Github</a>\n",
    "6. <a href='#processing'>Process data</a>\n",
    "7. <a href='#regression'>Perform a regression analysis, with price as the dependent variable</a>\n",
    "8. <a href='#predict'>Predict the price for the next date</a>\n",
    "\n",
    "\n",
    "Before running the program, packages must first be imported in order to access the various functions used by the codes below. If necessary, the packages must first be installed with `pip install [package name]`"
   ]
  },
  {
   "cell_type": "code",
   "execution_count": 5,
   "id": "28123844",
   "metadata": {},
   "outputs": [],
   "source": [
    "from bs4 import BeautifulSoup\n",
    "from lxml import etree\n",
    "import urllib.request as urllib2\n",
    "import datetime\n",
    "import pandas as pd\n",
    "import time\n",
    "import numpy as np\n",
    "import seaborn as sns\n",
    "import matplotlib.pyplot as plt\n",
    "\n",
    "from sklearn.preprocessing import StandardScaler\n",
    "from sklearn.model_selection import train_test_split\n",
    "from sklearn.metrics import mean_squared_error\n",
    "from sklearn.model_selection import RepeatedStratifiedKFold\n",
    "from sklearn.model_selection import GridSearchCV, RandomizedSearchCV\n",
    "from sklearn.model_selection import cross_val_score\n",
    "from xgboost import XGBRegressor\n",
    "from sklearn.tree import DecisionTreeRegressor\n",
    "from sklearn.gaussian_process import GaussianProcessRegressor\n",
    "from sklearn.linear_model import LinearRegression\n",
    "from sklearn.linear_model import Ridge\n",
    "from sklearn.linear_model import Lars\n",
    "from sklearn.linear_model import TheilSenRegressor\n",
    "from sklearn.linear_model import HuberRegressor\n",
    "from sklearn.linear_model import PassiveAggressiveRegressor\n",
    "from sklearn.linear_model import ARDRegression\n",
    "from sklearn.linear_model import BayesianRidge\n",
    "from sklearn.linear_model import ElasticNet\n",
    "from sklearn.linear_model import OrthogonalMatchingPursuit\n",
    "from sklearn.svm import SVR\n",
    "from sklearn.svm import NuSVR\n",
    "from sklearn.svm import LinearSVR\n",
    "from sklearn.kernel_ridge import KernelRidge\n",
    "from sklearn.isotonic import IsotonicRegression\n",
    "from sklearn.ensemble import RandomForestRegressor"
   ]
  },
  {
   "cell_type": "markdown",
   "id": "ff8ca6ec",
   "metadata": {},
   "source": [
    "<a id='extract'></a>\n",
    "### Extract data from URLs"
   ]
  },
  {
   "cell_type": "code",
   "execution_count": 136,
   "id": "c226763a",
   "metadata": {},
   "outputs": [],
   "source": [
    "# Initialize parser\n",
    "\n",
    "parser = etree.HTMLParser()"
   ]
  },
  {
   "cell_type": "markdown",
   "id": "fbb7c435",
   "metadata": {},
   "source": [
    "Set timeframe: January 1, 2019 to December 31, 2022\n",
    "\n",
    "A total of 1,461 URLs will be used for this dataset, with each URL representing a date within the timeframe.\n",
    "\n",
    "Since `startdate` and `enddate` are <i>not</i> numeric variables, we are unable to add a number (i.e., `startdate + 1`). To get the next date in the range of dates, the variable `day` is initialized below, which increments the dates by 1 day. Since all three variables - `startdate`, `enddate`, `day` - are from the same datetime module, operations can be performed using combinations of these variables."
   ]
  },
  {
   "cell_type": "code",
   "execution_count": 139,
   "id": "52e81e58",
   "metadata": {},
   "outputs": [],
   "source": [
    "startdate = datetime.date(2019,1,1)\n",
    "enddate = datetime.date(2022,12,31)\n",
    "day = datetime.timedelta(days=1)"
   ]
  },
  {
   "cell_type": "markdown",
   "id": "e2f7d456",
   "metadata": {},
   "source": [
    "<b>Lists</b> are Python objects that can store other objects - in this case, the data extracted from the URLs. Since five values are extracted from each URL - date, price, likes, dislikes, followers - five <i>empty</i> lists are initialized below. As the code runs through the `while` loop, the lists are appended - i.e, data is added.\n",
    "\n",
    "<b>NOTE: Because of how the server is structured, there are times when the data cannot be extracted. I saved a copy of the complete dataset (when the loop ran successfully) in [my github repository](https://github.com/isabelgrau/ADMN5015-AI-in-Marketing). </b>\n",
    "\n",
    "<b>If the loop does not run successfully, please jump to <a href='#downloadcsv'>this section</a> to proceed to the regression analysis using the full dataset from my github repository.</b>"
   ]
  },
  {
   "cell_type": "code",
   "execution_count": 140,
   "id": "834180e8",
   "metadata": {},
   "outputs": [
    {
     "name": "stderr",
     "output_type": "stream",
     "text": [
      "Some characters could not be decoded, and were replaced with REPLACEMENT CHARACTER.\n"
     ]
    },
    {
     "name": "stdout",
     "output_type": "stream",
     "text": [
      "https://admn5015-340805.uc.r.appspot.com/2022-12-31.html did not work\n",
      "Data extracted.\n"
     ]
    }
   ],
   "source": [
    "date = []\n",
    "price = []\n",
    "likes = []\n",
    "dislikes = []\n",
    "followers = []\n",
    "\n",
    "while startdate <= enddate:\n",
    "    try:\n",
    "        url = \"https://admn5015-340805.uc.r.appspot.com/\" + str(startdate) + \".html\"\n",
    "        webpage = urllib2.urlopen(url, timeout=10)\n",
    "        soup = BeautifulSoup(webpage.read(), \"html.parser\", from_encoding=\"utf-8\")\n",
    "\n",
    "        date.append(soup.find(\"td\", {\"id\": \"date\"}).text)\n",
    "\n",
    "        amount = soup.find(\"td\", {\"id\": \"price\"}).text\n",
    "        amount = amount.replace(\"$ \",\"\").replace(\" CAD\",\"\")\n",
    "        price.append(amount)\n",
    "\n",
    "        likes.append(soup.find(\"td\", {\"id\": \"likes\"}).text)\n",
    "        dislikes.append(soup.find(\"td\", {\"id\": \"dislikes\"}).text)\n",
    "        followers.append(soup.find(\"td\", {\"id\": \"followers\"}).text)\n",
    "    except:\n",
    "        print(url + \" did not work\")\n",
    "\n",
    "    startdate = startdate + day\n",
    "\n",
    "if startdate - day == enddate:\n",
    "    print(\"Data extracted.\")"
   ]
  },
  {
   "cell_type": "markdown",
   "id": "7158dafe",
   "metadata": {},
   "source": [
    "<b>Note</b>:<br>\n",
    "The original code taught in class for extracting data was as follows:\n",
    ">html = webpage.read().decode(encoding=\"utf-8\")<br>\n",
    "soup = BeautifulSoup(html, \"html.parser\")\n",
    "\n",
    "However, this sometimes throws the error ```'utf-8' codec can't decode byte 0x8b in position 1: invalid start byte loop```, especially when added in a loop. As an alternative, I used the following code, which combines both lines into one:\n",
    ">soup = BeautifulSoup(webpage.read(), \"html.parser\", from_encoding=\"utf-8\")"
   ]
  },
  {
   "cell_type": "markdown",
   "id": "0afe2b25",
   "metadata": {},
   "source": [
    "<a id='createdf'></a>\n",
    "### Create a dataframe using extracted data\n",
    "\n",
    "<b> NOTE: Because the last run of the loop above was unsuccessful, the ```table``` dataframe below is incomplete. A complete dataset can be found in [my github repository](https://github.com/isabelgrau/ADMN5015-AI-in-Marketing).</b>"
   ]
  },
  {
   "cell_type": "code",
   "execution_count": 141,
   "id": "4f85b8ad",
   "metadata": {},
   "outputs": [],
   "source": [
    "table = pd.DataFrame({\n",
    "    \"date\": date,\n",
    "    \"price\": price,\n",
    "    \"likes\": likes,\n",
    "    \"dislikes\": dislikes,\n",
    "    \"followers\": followers\n",
    "})"
   ]
  },
  {
   "cell_type": "markdown",
   "id": "c022081f",
   "metadata": {},
   "source": [
    "Check first and last few rows to make sure that the correct data was extracted, columns are organized, and that there are 1,461 rows."
   ]
  },
  {
   "cell_type": "code",
   "execution_count": 142,
   "id": "9102832d",
   "metadata": {},
   "outputs": [
    {
     "data": {
      "text/html": [
       "<div>\n",
       "<style scoped>\n",
       "    .dataframe tbody tr th:only-of-type {\n",
       "        vertical-align: middle;\n",
       "    }\n",
       "\n",
       "    .dataframe tbody tr th {\n",
       "        vertical-align: top;\n",
       "    }\n",
       "\n",
       "    .dataframe thead th {\n",
       "        text-align: right;\n",
       "    }\n",
       "</style>\n",
       "<table border=\"1\" class=\"dataframe\">\n",
       "  <thead>\n",
       "    <tr style=\"text-align: right;\">\n",
       "      <th></th>\n",
       "      <th>date</th>\n",
       "      <th>price</th>\n",
       "      <th>likes</th>\n",
       "      <th>dislikes</th>\n",
       "      <th>followers</th>\n",
       "    </tr>\n",
       "  </thead>\n",
       "  <tbody>\n",
       "    <tr>\n",
       "      <th>0</th>\n",
       "      <td>2019-01-01</td>\n",
       "      <td>999.47</td>\n",
       "      <td>9001</td>\n",
       "      <td>401</td>\n",
       "      <td>15002</td>\n",
       "    </tr>\n",
       "    <tr>\n",
       "      <th>1</th>\n",
       "      <td>2019-01-02</td>\n",
       "      <td>998.94</td>\n",
       "      <td>9002</td>\n",
       "      <td>402</td>\n",
       "      <td>15004</td>\n",
       "    </tr>\n",
       "    <tr>\n",
       "      <th>2</th>\n",
       "      <td>2019-01-03</td>\n",
       "      <td>998.41</td>\n",
       "      <td>9003</td>\n",
       "      <td>403</td>\n",
       "      <td>15006</td>\n",
       "    </tr>\n",
       "    <tr>\n",
       "      <th>3</th>\n",
       "      <td>2019-01-04</td>\n",
       "      <td>997.88</td>\n",
       "      <td>9004</td>\n",
       "      <td>404</td>\n",
       "      <td>15008</td>\n",
       "    </tr>\n",
       "    <tr>\n",
       "      <th>4</th>\n",
       "      <td>2019-01-05</td>\n",
       "      <td>997.35</td>\n",
       "      <td>9005</td>\n",
       "      <td>405</td>\n",
       "      <td>15010</td>\n",
       "    </tr>\n",
       "  </tbody>\n",
       "</table>\n",
       "</div>"
      ],
      "text/plain": [
       "         date   price likes dislikes followers\n",
       "0  2019-01-01  999.47  9001      401     15002\n",
       "1  2019-01-02  998.94  9002      402     15004\n",
       "2  2019-01-03  998.41  9003      403     15006\n",
       "3  2019-01-04  997.88  9004      404     15008\n",
       "4  2019-01-05  997.35  9005      405     15010"
      ]
     },
     "execution_count": 142,
     "metadata": {},
     "output_type": "execute_result"
    }
   ],
   "source": [
    "table.head()"
   ]
  },
  {
   "cell_type": "code",
   "execution_count": 143,
   "id": "889a2d05",
   "metadata": {},
   "outputs": [
    {
     "data": {
      "text/html": [
       "<div>\n",
       "<style scoped>\n",
       "    .dataframe tbody tr th:only-of-type {\n",
       "        vertical-align: middle;\n",
       "    }\n",
       "\n",
       "    .dataframe tbody tr th {\n",
       "        vertical-align: top;\n",
       "    }\n",
       "\n",
       "    .dataframe thead th {\n",
       "        text-align: right;\n",
       "    }\n",
       "</style>\n",
       "<table border=\"1\" class=\"dataframe\">\n",
       "  <thead>\n",
       "    <tr style=\"text-align: right;\">\n",
       "      <th></th>\n",
       "      <th>date</th>\n",
       "      <th>price</th>\n",
       "      <th>likes</th>\n",
       "      <th>dislikes</th>\n",
       "      <th>followers</th>\n",
       "    </tr>\n",
       "  </thead>\n",
       "  <tbody>\n",
       "    <tr>\n",
       "      <th>1455</th>\n",
       "      <td>2022-12-26</td>\n",
       "      <td>22452.8</td>\n",
       "      <td>10924</td>\n",
       "      <td>1496</td>\n",
       "      <td>17468</td>\n",
       "    </tr>\n",
       "    <tr>\n",
       "      <th>1456</th>\n",
       "      <td>2022-12-27</td>\n",
       "      <td>22452.8</td>\n",
       "      <td>10924</td>\n",
       "      <td>1496</td>\n",
       "      <td>17468</td>\n",
       "    </tr>\n",
       "    <tr>\n",
       "      <th>1457</th>\n",
       "      <td>2022-12-28</td>\n",
       "      <td>22452.8</td>\n",
       "      <td>10924</td>\n",
       "      <td>1496</td>\n",
       "      <td>17468</td>\n",
       "    </tr>\n",
       "    <tr>\n",
       "      <th>1458</th>\n",
       "      <td>2022-12-29</td>\n",
       "      <td>22452.8</td>\n",
       "      <td>10924</td>\n",
       "      <td>1496</td>\n",
       "      <td>17468</td>\n",
       "    </tr>\n",
       "    <tr>\n",
       "      <th>1459</th>\n",
       "      <td>2022-12-30</td>\n",
       "      <td>22452.8</td>\n",
       "      <td>10924</td>\n",
       "      <td>1496</td>\n",
       "      <td>17468</td>\n",
       "    </tr>\n",
       "  </tbody>\n",
       "</table>\n",
       "</div>"
      ],
      "text/plain": [
       "            date    price  likes dislikes followers\n",
       "1455  2022-12-26  22452.8  10924     1496     17468\n",
       "1456  2022-12-27  22452.8  10924     1496     17468\n",
       "1457  2022-12-28  22452.8  10924     1496     17468\n",
       "1458  2022-12-29  22452.8  10924     1496     17468\n",
       "1459  2022-12-30  22452.8  10924     1496     17468"
      ]
     },
     "execution_count": 143,
     "metadata": {},
     "output_type": "execute_result"
    }
   ],
   "source": [
    "table.tail()"
   ]
  },
  {
   "cell_type": "markdown",
   "id": "907740db",
   "metadata": {},
   "source": [
    "<a id='csv'></a>\n",
    "### Save as csv file"
   ]
  },
  {
   "cell_type": "code",
   "execution_count": 144,
   "id": "9b8ed121",
   "metadata": {},
   "outputs": [],
   "source": [
    "table.to_csv(\"admn5015_regression_dataset.csv\", encoding='utf-8', index=False)"
   ]
  },
  {
   "cell_type": "markdown",
   "id": "20b44508",
   "metadata": {},
   "source": [
    "<a id='downloadcsv'></a>\n",
    "### Download csv from Github as a dataframe"
   ]
  },
  {
   "cell_type": "code",
   "execution_count": 26,
   "id": "9616281a",
   "metadata": {},
   "outputs": [],
   "source": [
    "df = pd.read_csv(\"https://raw.githubusercontent.com/isabelgrau/ADMN5015-AI-in-Marketing/main/admn5015_regression_dataset.csv\")"
   ]
  },
  {
   "cell_type": "markdown",
   "id": "d93a69bd",
   "metadata": {},
   "source": [
    "Check first and last few rows to make sure that the correct data was extracted, columns are organized, and that there are 1,461 rows."
   ]
  },
  {
   "cell_type": "code",
   "execution_count": 27,
   "id": "c078fd1b",
   "metadata": {},
   "outputs": [
    {
     "data": {
      "text/html": [
       "<div>\n",
       "<style scoped>\n",
       "    .dataframe tbody tr th:only-of-type {\n",
       "        vertical-align: middle;\n",
       "    }\n",
       "\n",
       "    .dataframe tbody tr th {\n",
       "        vertical-align: top;\n",
       "    }\n",
       "\n",
       "    .dataframe thead th {\n",
       "        text-align: right;\n",
       "    }\n",
       "</style>\n",
       "<table border=\"1\" class=\"dataframe\">\n",
       "  <thead>\n",
       "    <tr style=\"text-align: right;\">\n",
       "      <th></th>\n",
       "      <th>date</th>\n",
       "      <th>price</th>\n",
       "      <th>likes</th>\n",
       "      <th>dislikes</th>\n",
       "      <th>followers</th>\n",
       "    </tr>\n",
       "  </thead>\n",
       "  <tbody>\n",
       "    <tr>\n",
       "      <th>0</th>\n",
       "      <td>2019-01-01</td>\n",
       "      <td>999.47</td>\n",
       "      <td>9001</td>\n",
       "      <td>401</td>\n",
       "      <td>15002</td>\n",
       "    </tr>\n",
       "    <tr>\n",
       "      <th>1</th>\n",
       "      <td>2019-01-02</td>\n",
       "      <td>998.94</td>\n",
       "      <td>9002</td>\n",
       "      <td>402</td>\n",
       "      <td>15004</td>\n",
       "    </tr>\n",
       "    <tr>\n",
       "      <th>2</th>\n",
       "      <td>2019-01-03</td>\n",
       "      <td>998.41</td>\n",
       "      <td>9003</td>\n",
       "      <td>403</td>\n",
       "      <td>15006</td>\n",
       "    </tr>\n",
       "    <tr>\n",
       "      <th>3</th>\n",
       "      <td>2019-01-04</td>\n",
       "      <td>997.88</td>\n",
       "      <td>9004</td>\n",
       "      <td>404</td>\n",
       "      <td>15008</td>\n",
       "    </tr>\n",
       "    <tr>\n",
       "      <th>4</th>\n",
       "      <td>2019-01-05</td>\n",
       "      <td>997.35</td>\n",
       "      <td>9005</td>\n",
       "      <td>405</td>\n",
       "      <td>15010</td>\n",
       "    </tr>\n",
       "  </tbody>\n",
       "</table>\n",
       "</div>"
      ],
      "text/plain": [
       "         date   price  likes  dislikes  followers\n",
       "0  2019-01-01  999.47   9001       401      15002\n",
       "1  2019-01-02  998.94   9002       402      15004\n",
       "2  2019-01-03  998.41   9003       403      15006\n",
       "3  2019-01-04  997.88   9004       404      15008\n",
       "4  2019-01-05  997.35   9005       405      15010"
      ]
     },
     "execution_count": 27,
     "metadata": {},
     "output_type": "execute_result"
    }
   ],
   "source": [
    "df.head()"
   ]
  },
  {
   "cell_type": "code",
   "execution_count": 28,
   "id": "17e5be1f",
   "metadata": {},
   "outputs": [
    {
     "data": {
      "text/html": [
       "<div>\n",
       "<style scoped>\n",
       "    .dataframe tbody tr th:only-of-type {\n",
       "        vertical-align: middle;\n",
       "    }\n",
       "\n",
       "    .dataframe tbody tr th {\n",
       "        vertical-align: top;\n",
       "    }\n",
       "\n",
       "    .dataframe thead th {\n",
       "        text-align: right;\n",
       "    }\n",
       "</style>\n",
       "<table border=\"1\" class=\"dataframe\">\n",
       "  <thead>\n",
       "    <tr style=\"text-align: right;\">\n",
       "      <th></th>\n",
       "      <th>date</th>\n",
       "      <th>price</th>\n",
       "      <th>likes</th>\n",
       "      <th>dislikes</th>\n",
       "      <th>followers</th>\n",
       "    </tr>\n",
       "  </thead>\n",
       "  <tbody>\n",
       "    <tr>\n",
       "      <th>1456</th>\n",
       "      <td>2022-12-27</td>\n",
       "      <td>22452.8</td>\n",
       "      <td>10924</td>\n",
       "      <td>1496</td>\n",
       "      <td>17468</td>\n",
       "    </tr>\n",
       "    <tr>\n",
       "      <th>1457</th>\n",
       "      <td>2022-12-28</td>\n",
       "      <td>22452.8</td>\n",
       "      <td>10924</td>\n",
       "      <td>1496</td>\n",
       "      <td>17468</td>\n",
       "    </tr>\n",
       "    <tr>\n",
       "      <th>1458</th>\n",
       "      <td>2022-12-29</td>\n",
       "      <td>22452.8</td>\n",
       "      <td>10924</td>\n",
       "      <td>1496</td>\n",
       "      <td>17468</td>\n",
       "    </tr>\n",
       "    <tr>\n",
       "      <th>1459</th>\n",
       "      <td>2022-12-30</td>\n",
       "      <td>22452.8</td>\n",
       "      <td>10924</td>\n",
       "      <td>1496</td>\n",
       "      <td>17468</td>\n",
       "    </tr>\n",
       "    <tr>\n",
       "      <th>1460</th>\n",
       "      <td>2022-12-31</td>\n",
       "      <td>22452.8</td>\n",
       "      <td>10924</td>\n",
       "      <td>1496</td>\n",
       "      <td>17468</td>\n",
       "    </tr>\n",
       "  </tbody>\n",
       "</table>\n",
       "</div>"
      ],
      "text/plain": [
       "            date    price  likes  dislikes  followers\n",
       "1456  2022-12-27  22452.8  10924      1496      17468\n",
       "1457  2022-12-28  22452.8  10924      1496      17468\n",
       "1458  2022-12-29  22452.8  10924      1496      17468\n",
       "1459  2022-12-30  22452.8  10924      1496      17468\n",
       "1460  2022-12-31  22452.8  10924      1496      17468"
      ]
     },
     "execution_count": 28,
     "metadata": {},
     "output_type": "execute_result"
    }
   ],
   "source": [
    "df.tail()"
   ]
  },
  {
   "cell_type": "markdown",
   "id": "e4cf9d0e",
   "metadata": {},
   "source": [
    "<a id='processing'></a>\n",
    "### Data processing"
   ]
  },
  {
   "cell_type": "code",
   "execution_count": 129,
   "id": "ee34db2e",
   "metadata": {},
   "outputs": [],
   "source": [
    "# Add column 'day' corresponding to each date\n",
    "\n",
    "df['day'] = df.index"
   ]
  },
  {
   "cell_type": "code",
   "execution_count": 130,
   "id": "de726bd5",
   "metadata": {},
   "outputs": [
    {
     "data": {
      "text/html": [
       "<div>\n",
       "<style scoped>\n",
       "    .dataframe tbody tr th:only-of-type {\n",
       "        vertical-align: middle;\n",
       "    }\n",
       "\n",
       "    .dataframe tbody tr th {\n",
       "        vertical-align: top;\n",
       "    }\n",
       "\n",
       "    .dataframe thead th {\n",
       "        text-align: right;\n",
       "    }\n",
       "</style>\n",
       "<table border=\"1\" class=\"dataframe\">\n",
       "  <thead>\n",
       "    <tr style=\"text-align: right;\">\n",
       "      <th></th>\n",
       "      <th>count</th>\n",
       "      <th>mean</th>\n",
       "      <th>std</th>\n",
       "      <th>min</th>\n",
       "      <th>25%</th>\n",
       "      <th>50%</th>\n",
       "      <th>75%</th>\n",
       "      <th>max</th>\n",
       "    </tr>\n",
       "  </thead>\n",
       "  <tbody>\n",
       "    <tr>\n",
       "      <th>price</th>\n",
       "      <td>1461.0</td>\n",
       "      <td>11167.313854</td>\n",
       "      <td>8574.937328</td>\n",
       "      <td>855.31</td>\n",
       "      <td>1362.78</td>\n",
       "      <td>14193.74</td>\n",
       "      <td>22452.8</td>\n",
       "      <td>22452.8</td>\n",
       "    </tr>\n",
       "    <tr>\n",
       "      <th>likes</th>\n",
       "      <td>1461.0</td>\n",
       "      <td>10125.540041</td>\n",
       "      <td>662.219848</td>\n",
       "      <td>9001.00</td>\n",
       "      <td>9642.00</td>\n",
       "      <td>10283.00</td>\n",
       "      <td>10924.0</td>\n",
       "      <td>10924.0</td>\n",
       "    </tr>\n",
       "    <tr>\n",
       "      <th>dislikes</th>\n",
       "      <td>1461.0</td>\n",
       "      <td>1085.281314</td>\n",
       "      <td>362.438436</td>\n",
       "      <td>401.00</td>\n",
       "      <td>766.00</td>\n",
       "      <td>1131.00</td>\n",
       "      <td>1496.0</td>\n",
       "      <td>1496.0</td>\n",
       "    </tr>\n",
       "    <tr>\n",
       "      <th>followers</th>\n",
       "      <td>1461.0</td>\n",
       "      <td>16517.315537</td>\n",
       "      <td>824.037689</td>\n",
       "      <td>15002.00</td>\n",
       "      <td>15824.00</td>\n",
       "      <td>16646.00</td>\n",
       "      <td>17468.0</td>\n",
       "      <td>17468.0</td>\n",
       "    </tr>\n",
       "    <tr>\n",
       "      <th>day</th>\n",
       "      <td>1461.0</td>\n",
       "      <td>730.000000</td>\n",
       "      <td>421.898685</td>\n",
       "      <td>0.00</td>\n",
       "      <td>365.00</td>\n",
       "      <td>730.00</td>\n",
       "      <td>1095.0</td>\n",
       "      <td>1460.0</td>\n",
       "    </tr>\n",
       "  </tbody>\n",
       "</table>\n",
       "</div>"
      ],
      "text/plain": [
       "            count          mean          std       min       25%       50%  \\\n",
       "price      1461.0  11167.313854  8574.937328    855.31   1362.78  14193.74   \n",
       "likes      1461.0  10125.540041   662.219848   9001.00   9642.00  10283.00   \n",
       "dislikes   1461.0   1085.281314   362.438436    401.00    766.00   1131.00   \n",
       "followers  1461.0  16517.315537   824.037689  15002.00  15824.00  16646.00   \n",
       "day        1461.0    730.000000   421.898685      0.00    365.00    730.00   \n",
       "\n",
       "               75%      max  \n",
       "price      22452.8  22452.8  \n",
       "likes      10924.0  10924.0  \n",
       "dislikes    1496.0   1496.0  \n",
       "followers  17468.0  17468.0  \n",
       "day         1095.0   1460.0  "
      ]
     },
     "execution_count": 130,
     "metadata": {},
     "output_type": "execute_result"
    }
   ],
   "source": [
    "# Examine data\n",
    "\n",
    "df.describe().T"
   ]
  },
  {
   "cell_type": "code",
   "execution_count": 131,
   "id": "6c9ef5f8",
   "metadata": {
    "scrolled": false
   },
   "outputs": [
    {
     "data": {
      "image/png": "[encoded data removed]",
      "text/plain": [
       "<Figure size 1080x432 with 1 Axes>"
      ]
     },
     "metadata": {
      "needs_background": "light"
     },
     "output_type": "display_data"
    }
   ],
   "source": [
    "# Plot data \n",
    "\n",
    "plt.figure(figsize=(15,6))\n",
    "bars = df.corr()['price'].sort_values(ascending=False).plot(kind='bar')"
   ]
  },
  {
   "cell_type": "code",
   "execution_count": 132,
   "id": "05c82f52",
   "metadata": {},
   "outputs": [
    {
     "data": {
      "image/png": "[encoded data removed]",
      "text/plain": [
       "<Figure size 1080x432 with 2 Axes>"
      ]
     },
     "metadata": {
      "needs_background": "light"
     },
     "output_type": "display_data"
    }
   ],
   "source": [
    "# Create a heatmap\n",
    "\n",
    "plt.figure(figsize=(15,6))\n",
    "heatmap = sns.heatmap(df.corr(), annot=True, cmap=\"Blues\")"
   ]
  },
  {
   "cell_type": "code",
   "execution_count": 133,
   "id": "8f458bf0",
   "metadata": {},
   "outputs": [
    {
     "data": {
      "text/plain": [
       "<seaborn.axisgrid.PairGrid at 0x1bfa819af70>"
      ]
     },
     "execution_count": 133,
     "metadata": {},
     "output_type": "execute_result"
    },
    {
     "data": {
      "image/png": "[encoded data removed]",
      "text/plain": [
       "<Figure size 900x900 with 30 Axes>"
      ]
     },
     "metadata": {
      "needs_background": "light"
     },
     "output_type": "display_data"
    }
   ],
   "source": [
    "sns.pairplot(df)"
   ]
  },
  {
   "cell_type": "markdown",
   "id": "33b038bd",
   "metadata": {},
   "source": [
    "The visualizations above show that all variables are strongly positively correlated with price."
   ]
  },
  {
   "cell_type": "code",
   "execution_count": 134,
   "id": "e7bff24b",
   "metadata": {},
   "outputs": [
    {
     "data": {
      "image/png": "[encoded data removed]",
      "text/plain": [
       "<Figure size 432x288 with 1 Axes>"
      ]
     },
     "metadata": {
      "needs_background": "light"
     },
     "output_type": "display_data"
    }
   ],
   "source": [
    "plt.plot(df['date'], df['price'])\n",
    "plt.xlabel('Date')\n",
    "plt.ylabel('Price')\n",
    "plt.show()"
   ]
  },
  {
   "cell_type": "markdown",
   "id": "eca9c38f",
   "metadata": {},
   "source": [
    "There does not seem to be a pattern in price over time. It was relatively flat in 2019, then increased exponentially in 2020. After its exponential increase, it remained flat in 2021. There was a sudden increase at the beginning of 2022, but it remained stable throughout the year.\n",
    "\n",
    "Exploratory analysis shows that the date is not likely to be a good predictor. To confirm whether or not this is accurate, the regression analysis that follows compares two sets of predictor variables - with and without dates (represented by the column ```day```)."
   ]
  },
  {
   "cell_type": "markdown",
   "id": "f4cb17e1",
   "metadata": {},
   "source": [
    "<a id='regression'></a>\n",
    "### Regression analysis"
   ]
  },
  {
   "cell_type": "code",
   "execution_count": 62,
   "id": "a2555fde",
   "metadata": {},
   "outputs": [],
   "source": [
    "# Create traning and testing datasets\n",
    "\n",
    "x1 = df[['likes', 'dislikes', 'followers', 'day']] # With day as one of the predictor variables \n",
    "x2 = df[['likes', 'dislikes', 'followers']] # Without day as one of the predictor variables \n",
    "y = df['price']\n",
    "\n",
    "x1_train, x1_test, y1_train, y1_test = train_test_split(x1, y, test_size=0.3, random_state=0) # With dates\n",
    "x2_train, x2_test, y2_train, y2_test = train_test_split(x2, y, test_size=0.3, random_state=0) # Without dates"
   ]
  },
  {
   "cell_type": "code",
   "execution_count": 63,
   "id": "3e376287",
   "metadata": {},
   "outputs": [],
   "source": [
    "# Identify the best model\n",
    "\n",
    "regressors = {\n",
    "    \"XGBRegressor\": XGBRegressor(silent=True),\n",
    "    \"RandomForestRegressor\": RandomForestRegressor(),\n",
    "    \"DecisionTreeRegressor\": DecisionTreeRegressor(),\n",
    "    \"GaussianProcessRegressor\": GaussianProcessRegressor(),\n",
    "    \"SVR\": SVR(),\n",
    "    \"NuSVR\": NuSVR(),\n",
    "    \"Ridge\":Ridge(),\n",
    "    \"Lars\": Lars(),\n",
    "    \"TheilSenRegressor\": TheilSenRegressor(),\n",
    "    \"HuberRegressor\": HuberRegressor(),\n",
    "    \"PassiveAggressiveRegressor\": PassiveAggressiveRegressor(),\n",
    "    \"ARDRegression\": ARDRegression(),\n",
    "    \"BayesianRidge\": BayesianRidge(),\n",
    "    \"ElasticNet\": ElasticNet(),\n",
    "    \"OrthogonalMatchingPursuit\": OrthogonalMatchingPursuit(),\n",
    "}\n"
   ]
  },
  {
   "cell_type": "markdown",
   "id": "bf42e976",
   "metadata": {},
   "source": [
    "<b>With ```day``` as a predictor variable:</b>"
   ]
  },
  {
   "cell_type": "code",
   "execution_count": 64,
   "id": "4d912c27",
   "metadata": {},
   "outputs": [
    {
     "name": "stdout",
     "output_type": "stream",
     "text": [
      "* XGBRegressor\n",
      "[21:21:46] WARNING: C:/Users/Administrator/workspace/xgboost-win64_release_1.6.0/src/learner.cc:627: \n",
      "Parameters: { \"silent\" } might not be used.\n",
      "\n",
      "  This could be a false alarm, with some parameters getting used by language bindings but\n",
      "  then being mistakenly passed down to XGBoost core, or some parameter actually being used\n",
      "  but getting flagged wrongly here. Please open an issue if you find any such cases.\n",
      "\n",
      "\n",
      "[21:21:46] WARNING: C:/Users/Administrator/workspace/xgboost-win64_release_1.6.0/src/learner.cc:627: \n",
      "Parameters: { \"silent\" } might not be used.\n",
      "\n",
      "  This could be a false alarm, with some parameters getting used by language bindings but\n",
      "  then being mistakenly passed down to XGBoost core, or some parameter actually being used\n",
      "  but getting flagged wrongly here. Please open an issue if you find any such cases.\n",
      "\n",
      "\n",
      "[21:21:46] WARNING: C:/Users/Administrator/workspace/xgboost-win64_release_1.6.0/src/learner.cc:627: \n",
      "Parameters: { \"silent\" } might not be used.\n",
      "\n",
      "  This could be a false alarm, with some parameters getting used by language bindings but\n",
      "  then being mistakenly passed down to XGBoost core, or some parameter actually being used\n",
      "  but getting flagged wrongly here. Please open an issue if you find any such cases.\n",
      "\n",
      "\n",
      "[21:21:46] WARNING: C:/Users/Administrator/workspace/xgboost-win64_release_1.6.0/src/learner.cc:627: \n",
      "Parameters: { \"silent\" } might not be used.\n",
      "\n",
      "  This could be a false alarm, with some parameters getting used by language bindings but\n",
      "  then being mistakenly passed down to XGBoost core, or some parameter actually being used\n",
      "  but getting flagged wrongly here. Please open an issue if you find any such cases.\n",
      "\n",
      "\n",
      "[21:21:46] WARNING: C:/Users/Administrator/workspace/xgboost-win64_release_1.6.0/src/learner.cc:627: \n",
      "Parameters: { \"silent\" } might not be used.\n",
      "\n",
      "  This could be a false alarm, with some parameters getting used by language bindings but\n",
      "  then being mistakenly passed down to XGBoost core, or some parameter actually being used\n",
      "  but getting flagged wrongly here. Please open an issue if you find any such cases.\n",
      "\n",
      "\n",
      "[21:21:46] WARNING: C:/Users/Administrator/workspace/xgboost-win64_release_1.6.0/src/learner.cc:627: \n",
      "Parameters: { \"silent\" } might not be used.\n",
      "\n",
      "  This could be a false alarm, with some parameters getting used by language bindings but\n",
      "  then being mistakenly passed down to XGBoost core, or some parameter actually being used\n",
      "  but getting flagged wrongly here. Please open an issue if you find any such cases.\n",
      "\n",
      "\n",
      "[21:21:47] WARNING: C:/Users/Administrator/workspace/xgboost-win64_release_1.6.0/src/learner.cc:627: \n",
      "Parameters: { \"silent\" } might not be used.\n",
      "\n",
      "  This could be a false alarm, with some parameters getting used by language bindings but\n",
      "  then being mistakenly passed down to XGBoost core, or some parameter actually being used\n",
      "  but getting flagged wrongly here. Please open an issue if you find any such cases.\n",
      "\n",
      "\n",
      "[21:21:47] WARNING: C:/Users/Administrator/workspace/xgboost-win64_release_1.6.0/src/learner.cc:627: \n",
      "Parameters: { \"silent\" } might not be used.\n",
      "\n",
      "  This could be a false alarm, with some parameters getting used by language bindings but\n",
      "  then being mistakenly passed down to XGBoost core, or some parameter actually being used\n",
      "  but getting flagged wrongly here. Please open an issue if you find any such cases.\n",
      "\n",
      "\n",
      "[21:21:47] WARNING: C:/Users/Administrator/workspace/xgboost-win64_release_1.6.0/src/learner.cc:627: \n",
      "Parameters: { \"silent\" } might not be used.\n",
      "\n",
      "  This could be a false alarm, with some parameters getting used by language bindings but\n",
      "  then being mistakenly passed down to XGBoost core, or some parameter actually being used\n",
      "  but getting flagged wrongly here. Please open an issue if you find any such cases.\n",
      "\n",
      "\n",
      "[21:21:47] WARNING: C:/Users/Administrator/workspace/xgboost-win64_release_1.6.0/src/learner.cc:627: \n",
      "Parameters: { \"silent\" } might not be used.\n",
      "\n",
      "  This could be a false alarm, with some parameters getting used by language bindings but\n",
      "  then being mistakenly passed down to XGBoost core, or some parameter actually being used\n",
      "  but getting flagged wrongly here. Please open an issue if you find any such cases.\n",
      "\n",
      "\n",
      "[21:21:47] WARNING: C:/Users/Administrator/workspace/xgboost-win64_release_1.6.0/src/learner.cc:627: \n",
      "Parameters: { \"silent\" } might not be used.\n",
      "\n",
      "  This could be a false alarm, with some parameters getting used by language bindings but\n",
      "  then being mistakenly passed down to XGBoost core, or some parameter actually being used\n",
      "  but getting flagged wrongly here. Please open an issue if you find any such cases.\n",
      "\n",
      "\n",
      "* RandomForestRegressor\n",
      "* DecisionTreeRegressor\n",
      "* GaussianProcessRegressor\n",
      "* SVR\n",
      "* NuSVR\n",
      "* Ridge\n",
      "* Lars\n",
      "* TheilSenRegressor\n",
      "* HuberRegressor\n",
      "* PassiveAggressiveRegressor\n",
      "* ARDRegression\n",
      "* BayesianRidge\n",
      "* ElasticNet\n",
      "* OrthogonalMatchingPursuit\n"
     ]
    },
    {
     "name": "stderr",
     "output_type": "stream",
     "text": [
      "C:\\ProgramData\\Anaconda3\\lib\\site-packages\\sklearn\\linear_model\\_coordinate_descent.py:530: ConvergenceWarning: Objective did not converge. You might want to increase the number of iterations. Duality gap: 1522952940.5938444, tolerance: 7441818.225228856\n",
      "  model = cd_fast.enet_coordinate_descent(\n",
      "C:\\ProgramData\\Anaconda3\\lib\\site-packages\\sklearn\\linear_model\\_coordinate_descent.py:530: ConvergenceWarning: Objective did not converge. You might want to increase the number of iterations. Duality gap: 1345632870.5160952, tolerance: 6755559.401193802\n",
      "  model = cd_fast.enet_coordinate_descent(\n",
      "C:\\ProgramData\\Anaconda3\\lib\\site-packages\\sklearn\\linear_model\\_coordinate_descent.py:530: ConvergenceWarning: Objective did not converge. You might want to increase the number of iterations. Duality gap: 1387049296.5679069, tolerance: 6657474.864818096\n",
      "  model = cd_fast.enet_coordinate_descent(\n",
      "C:\\ProgramData\\Anaconda3\\lib\\site-packages\\sklearn\\linear_model\\_coordinate_descent.py:530: ConvergenceWarning: Objective did not converge. You might want to increase the number of iterations. Duality gap: 1388563526.5524557, tolerance: 6733182.021013378\n",
      "  model = cd_fast.enet_coordinate_descent(\n",
      "C:\\ProgramData\\Anaconda3\\lib\\site-packages\\sklearn\\linear_model\\_coordinate_descent.py:530: ConvergenceWarning: Objective did not converge. You might want to increase the number of iterations. Duality gap: 1350377993.26083, tolerance: 6608475.421845598\n",
      "  model = cd_fast.enet_coordinate_descent(\n",
      "C:\\ProgramData\\Anaconda3\\lib\\site-packages\\sklearn\\linear_model\\_coordinate_descent.py:530: ConvergenceWarning: Objective did not converge. You might want to increase the number of iterations. Duality gap: 1343771395.1827168, tolerance: 6710136.599009704\n",
      "  model = cd_fast.enet_coordinate_descent(\n",
      "C:\\ProgramData\\Anaconda3\\lib\\site-packages\\sklearn\\linear_model\\_coordinate_descent.py:530: ConvergenceWarning: Objective did not converge. You might want to increase the number of iterations. Duality gap: 1355966588.4776616, tolerance: 6697013.684972001\n",
      "  model = cd_fast.enet_coordinate_descent(\n",
      "C:\\ProgramData\\Anaconda3\\lib\\site-packages\\sklearn\\linear_model\\_coordinate_descent.py:530: ConvergenceWarning: Objective did not converge. You might want to increase the number of iterations. Duality gap: 1355253049.5415928, tolerance: 6683381.35149818\n",
      "  model = cd_fast.enet_coordinate_descent(\n",
      "C:\\ProgramData\\Anaconda3\\lib\\site-packages\\sklearn\\linear_model\\_coordinate_descent.py:530: ConvergenceWarning: Objective did not converge. You might want to increase the number of iterations. Duality gap: 1396829053.7608724, tolerance: 6704284.511150722\n",
      "  model = cd_fast.enet_coordinate_descent(\n",
      "C:\\ProgramData\\Anaconda3\\lib\\site-packages\\sklearn\\linear_model\\_coordinate_descent.py:530: ConvergenceWarning: Objective did not converge. You might want to increase the number of iterations. Duality gap: 1388515181.1483479, tolerance: 6673644.260245062\n",
      "  model = cd_fast.enet_coordinate_descent(\n",
      "C:\\ProgramData\\Anaconda3\\lib\\site-packages\\sklearn\\linear_model\\_coordinate_descent.py:530: ConvergenceWarning: Objective did not converge. You might want to increase the number of iterations. Duality gap: 1386155108.2631028, tolerance: 6748535.679157823\n",
      "  model = cd_fast.enet_coordinate_descent(\n"
     ]
    }
   ],
   "source": [
    "df_models_1 = pd.DataFrame(columns=['model', 'run_time', 'rmse'])\n",
    "\n",
    "for key in regressors:\n",
    "\n",
    "    print('*',key)\n",
    "\n",
    "    start_time = time.time()\n",
    "\n",
    "    regressor = regressors[key]\n",
    "    model = regressor.fit(x1_train, y1_train)\n",
    "    y1_pred = model.predict(x1_test)\n",
    "\n",
    "    scores = cross_val_score(model, \n",
    "                             x1_train, \n",
    "                             y1_train,\n",
    "                             scoring=\"neg_mean_squared_error\", \n",
    "                             cv=10)\n",
    "\n",
    "    row = {'model': key,\n",
    "           'run_time': format(round((time.time() - start_time)/60,2)),\n",
    "           'rmse': round(np.sqrt(mean_squared_error(y1_test, y1_pred)))\n",
    "    }\n",
    "\n",
    "    df_models_1 = df_models_1.append(row, ignore_index=True)"
   ]
  },
  {
   "cell_type": "code",
   "execution_count": 65,
   "id": "ec965968",
   "metadata": {},
   "outputs": [
    {
     "data": {
      "text/html": [
       "<div>\n",
       "<style scoped>\n",
       "    .dataframe tbody tr th:only-of-type {\n",
       "        vertical-align: middle;\n",
       "    }\n",
       "\n",
       "    .dataframe tbody tr th {\n",
       "        vertical-align: top;\n",
       "    }\n",
       "\n",
       "    .dataframe thead th {\n",
       "        text-align: right;\n",
       "    }\n",
       "</style>\n",
       "<table border=\"1\" class=\"dataframe\">\n",
       "  <thead>\n",
       "    <tr style=\"text-align: right;\">\n",
       "      <th></th>\n",
       "      <th>model</th>\n",
       "      <th>run_time</th>\n",
       "      <th>rmse</th>\n",
       "    </tr>\n",
       "  </thead>\n",
       "  <tbody>\n",
       "    <tr>\n",
       "      <th>1</th>\n",
       "      <td>RandomForestRegressor</td>\n",
       "      <td>0.03</td>\n",
       "      <td>20</td>\n",
       "    </tr>\n",
       "    <tr>\n",
       "      <th>2</th>\n",
       "      <td>DecisionTreeRegressor</td>\n",
       "      <td>0.0</td>\n",
       "      <td>34</td>\n",
       "    </tr>\n",
       "    <tr>\n",
       "      <th>0</th>\n",
       "      <td>XGBRegressor</td>\n",
       "      <td>0.01</td>\n",
       "      <td>36</td>\n",
       "    </tr>\n",
       "    <tr>\n",
       "      <th>6</th>\n",
       "      <td>Ridge</td>\n",
       "      <td>0.0</td>\n",
       "      <td>1804</td>\n",
       "    </tr>\n",
       "    <tr>\n",
       "      <th>7</th>\n",
       "      <td>Lars</td>\n",
       "      <td>0.0</td>\n",
       "      <td>1804</td>\n",
       "    </tr>\n",
       "    <tr>\n",
       "      <th>13</th>\n",
       "      <td>ElasticNet</td>\n",
       "      <td>0.0</td>\n",
       "      <td>1804</td>\n",
       "    </tr>\n",
       "    <tr>\n",
       "      <th>11</th>\n",
       "      <td>ARDRegression</td>\n",
       "      <td>0.0</td>\n",
       "      <td>1805</td>\n",
       "    </tr>\n",
       "    <tr>\n",
       "      <th>12</th>\n",
       "      <td>BayesianRidge</td>\n",
       "      <td>0.0</td>\n",
       "      <td>1805</td>\n",
       "    </tr>\n",
       "    <tr>\n",
       "      <th>8</th>\n",
       "      <td>TheilSenRegressor</td>\n",
       "      <td>0.08</td>\n",
       "      <td>1833</td>\n",
       "    </tr>\n",
       "    <tr>\n",
       "      <th>14</th>\n",
       "      <td>OrthogonalMatchingPursuit</td>\n",
       "      <td>0.0</td>\n",
       "      <td>2035</td>\n",
       "    </tr>\n",
       "    <tr>\n",
       "      <th>9</th>\n",
       "      <td>HuberRegressor</td>\n",
       "      <td>0.0</td>\n",
       "      <td>2109</td>\n",
       "    </tr>\n",
       "    <tr>\n",
       "      <th>10</th>\n",
       "      <td>PassiveAggressiveRegressor</td>\n",
       "      <td>0.0</td>\n",
       "      <td>2424</td>\n",
       "    </tr>\n",
       "    <tr>\n",
       "      <th>5</th>\n",
       "      <td>NuSVR</td>\n",
       "      <td>0.01</td>\n",
       "      <td>8663</td>\n",
       "    </tr>\n",
       "    <tr>\n",
       "      <th>4</th>\n",
       "      <td>SVR</td>\n",
       "      <td>0.01</td>\n",
       "      <td>9162</td>\n",
       "    </tr>\n",
       "    <tr>\n",
       "      <th>3</th>\n",
       "      <td>GaussianProcessRegressor</td>\n",
       "      <td>0.02</td>\n",
       "      <td>9438</td>\n",
       "    </tr>\n",
       "  </tbody>\n",
       "</table>\n",
       "</div>"
      ],
      "text/plain": [
       "                         model run_time  rmse\n",
       "1        RandomForestRegressor     0.03    20\n",
       "2        DecisionTreeRegressor      0.0    34\n",
       "0                 XGBRegressor     0.01    36\n",
       "6                        Ridge      0.0  1804\n",
       "7                         Lars      0.0  1804\n",
       "13                  ElasticNet      0.0  1804\n",
       "11               ARDRegression      0.0  1805\n",
       "12               BayesianRidge      0.0  1805\n",
       "8            TheilSenRegressor     0.08  1833\n",
       "14   OrthogonalMatchingPursuit      0.0  2035\n",
       "9               HuberRegressor      0.0  2109\n",
       "10  PassiveAggressiveRegressor      0.0  2424\n",
       "5                        NuSVR     0.01  8663\n",
       "4                          SVR     0.01  9162\n",
       "3     GaussianProcessRegressor     0.02  9438"
      ]
     },
     "execution_count": 65,
     "metadata": {},
     "output_type": "execute_result"
    }
   ],
   "source": [
    "# Order model results\n",
    "\n",
    "df_models_1.head(20).sort_values(by='rmse', ascending=True)"
   ]
  },
  {
   "cell_type": "markdown",
   "id": "096fe75b",
   "metadata": {},
   "source": [
    "<b>Without ```day``` as a predictor variable:</b>"
   ]
  },
  {
   "cell_type": "code",
   "execution_count": 66,
   "id": "16789244",
   "metadata": {},
   "outputs": [
    {
     "name": "stdout",
     "output_type": "stream",
     "text": [
      "* XGBRegressor\n",
      "[21:21:57] WARNING: C:/Users/Administrator/workspace/xgboost-win64_release_1.6.0/src/learner.cc:627: \n",
      "Parameters: { \"silent\" } might not be used.\n",
      "\n",
      "  This could be a false alarm, with some parameters getting used by language bindings but\n",
      "  then being mistakenly passed down to XGBoost core, or some parameter actually being used\n",
      "  but getting flagged wrongly here. Please open an issue if you find any such cases.\n",
      "\n",
      "\n",
      "[21:21:57] WARNING: C:/Users/Administrator/workspace/xgboost-win64_release_1.6.0/src/learner.cc:627: \n",
      "Parameters: { \"silent\" } might not be used.\n",
      "\n",
      "  This could be a false alarm, with some parameters getting used by language bindings but\n",
      "  then being mistakenly passed down to XGBoost core, or some parameter actually being used\n",
      "  but getting flagged wrongly here. Please open an issue if you find any such cases.\n",
      "\n",
      "\n",
      "[21:21:57] WARNING: C:/Users/Administrator/workspace/xgboost-win64_release_1.6.0/src/learner.cc:627: \n",
      "Parameters: { \"silent\" } might not be used.\n",
      "\n",
      "  This could be a false alarm, with some parameters getting used by language bindings but\n",
      "  then being mistakenly passed down to XGBoost core, or some parameter actually being used\n",
      "  but getting flagged wrongly here. Please open an issue if you find any such cases.\n",
      "\n",
      "\n",
      "[21:21:57] WARNING: C:/Users/Administrator/workspace/xgboost-win64_release_1.6.0/src/learner.cc:627: \n",
      "Parameters: { \"silent\" } might not be used.\n",
      "\n",
      "  This could be a false alarm, with some parameters getting used by language bindings but\n",
      "  then being mistakenly passed down to XGBoost core, or some parameter actually being used\n",
      "  but getting flagged wrongly here. Please open an issue if you find any such cases.\n",
      "\n",
      "\n",
      "[21:21:57] WARNING: C:/Users/Administrator/workspace/xgboost-win64_release_1.6.0/src/learner.cc:627: \n",
      "Parameters: { \"silent\" } might not be used.\n",
      "\n",
      "  This could be a false alarm, with some parameters getting used by language bindings but\n",
      "  then being mistakenly passed down to XGBoost core, or some parameter actually being used\n",
      "  but getting flagged wrongly here. Please open an issue if you find any such cases.\n",
      "\n",
      "\n",
      "[21:21:57] WARNING: C:/Users/Administrator/workspace/xgboost-win64_release_1.6.0/src/learner.cc:627: \n",
      "Parameters: { \"silent\" } might not be used.\n",
      "\n",
      "  This could be a false alarm, with some parameters getting used by language bindings but\n",
      "  then being mistakenly passed down to XGBoost core, or some parameter actually being used\n",
      "  but getting flagged wrongly here. Please open an issue if you find any such cases.\n",
      "\n",
      "\n",
      "[21:21:57] WARNING: C:/Users/Administrator/workspace/xgboost-win64_release_1.6.0/src/learner.cc:627: \n",
      "Parameters: { \"silent\" } might not be used.\n",
      "\n",
      "  This could be a false alarm, with some parameters getting used by language bindings but\n",
      "  then being mistakenly passed down to XGBoost core, or some parameter actually being used\n",
      "  but getting flagged wrongly here. Please open an issue if you find any such cases.\n",
      "\n",
      "\n",
      "[21:21:57] WARNING: C:/Users/Administrator/workspace/xgboost-win64_release_1.6.0/src/learner.cc:627: \n",
      "Parameters: { \"silent\" } might not be used.\n",
      "\n",
      "  This could be a false alarm, with some parameters getting used by language bindings but\n",
      "  then being mistakenly passed down to XGBoost core, or some parameter actually being used\n",
      "  but getting flagged wrongly here. Please open an issue if you find any such cases.\n",
      "\n",
      "\n",
      "[21:21:57] WARNING: C:/Users/Administrator/workspace/xgboost-win64_release_1.6.0/src/learner.cc:627: \n",
      "Parameters: { \"silent\" } might not be used.\n",
      "\n",
      "  This could be a false alarm, with some parameters getting used by language bindings but\n",
      "  then being mistakenly passed down to XGBoost core, or some parameter actually being used\n",
      "  but getting flagged wrongly here. Please open an issue if you find any such cases.\n",
      "\n",
      "\n",
      "[21:21:57] WARNING: C:/Users/Administrator/workspace/xgboost-win64_release_1.6.0/src/learner.cc:627: \n",
      "Parameters: { \"silent\" } might not be used.\n",
      "\n",
      "  This could be a false alarm, with some parameters getting used by language bindings but\n",
      "  then being mistakenly passed down to XGBoost core, or some parameter actually being used\n",
      "  but getting flagged wrongly here. Please open an issue if you find any such cases.\n",
      "\n",
      "\n",
      "[21:21:57] WARNING: C:/Users/Administrator/workspace/xgboost-win64_release_1.6.0/src/learner.cc:627: \n",
      "Parameters: { \"silent\" } might not be used.\n",
      "\n",
      "  This could be a false alarm, with some parameters getting used by language bindings but\n",
      "  then being mistakenly passed down to XGBoost core, or some parameter actually being used\n",
      "  but getting flagged wrongly here. Please open an issue if you find any such cases.\n",
      "\n",
      "\n",
      "* RandomForestRegressor\n",
      "* DecisionTreeRegressor\n",
      "* GaussianProcessRegressor\n",
      "* SVR\n",
      "* NuSVR\n",
      "* Ridge\n",
      "* Lars\n",
      "* TheilSenRegressor\n",
      "* HuberRegressor\n",
      "* PassiveAggressiveRegressor\n",
      "* ARDRegression\n",
      "* BayesianRidge\n",
      "* ElasticNet\n",
      "* OrthogonalMatchingPursuit\n"
     ]
    },
    {
     "name": "stderr",
     "output_type": "stream",
     "text": [
      "C:\\ProgramData\\Anaconda3\\lib\\site-packages\\sklearn\\linear_model\\_coordinate_descent.py:530: ConvergenceWarning: Objective did not converge. You might want to increase the number of iterations. Duality gap: 1629259863.170863, tolerance: 7441818.225228856\n",
      "  model = cd_fast.enet_coordinate_descent(\n",
      "C:\\ProgramData\\Anaconda3\\lib\\site-packages\\sklearn\\linear_model\\_coordinate_descent.py:530: ConvergenceWarning: Objective did not converge. You might want to increase the number of iterations. Duality gap: 1441575507.0766218, tolerance: 6755559.401193802\n",
      "  model = cd_fast.enet_coordinate_descent(\n",
      "C:\\ProgramData\\Anaconda3\\lib\\site-packages\\sklearn\\linear_model\\_coordinate_descent.py:530: ConvergenceWarning: Objective did not converge. You might want to increase the number of iterations. Duality gap: 1482857600.3419611, tolerance: 6657474.864818096\n",
      "  model = cd_fast.enet_coordinate_descent(\n",
      "C:\\ProgramData\\Anaconda3\\lib\\site-packages\\sklearn\\linear_model\\_coordinate_descent.py:530: ConvergenceWarning: Objective did not converge. You might want to increase the number of iterations. Duality gap: 1481450104.9187555, tolerance: 6733182.021013378\n",
      "  model = cd_fast.enet_coordinate_descent(\n",
      "C:\\ProgramData\\Anaconda3\\lib\\site-packages\\sklearn\\linear_model\\_coordinate_descent.py:530: ConvergenceWarning: Objective did not converge. You might want to increase the number of iterations. Duality gap: 1441675331.32653, tolerance: 6608475.421845598\n",
      "  model = cd_fast.enet_coordinate_descent(\n",
      "C:\\ProgramData\\Anaconda3\\lib\\site-packages\\sklearn\\linear_model\\_coordinate_descent.py:530: ConvergenceWarning: Objective did not converge. You might want to increase the number of iterations. Duality gap: 1439305433.7320576, tolerance: 6710136.599009704\n",
      "  model = cd_fast.enet_coordinate_descent(\n",
      "C:\\ProgramData\\Anaconda3\\lib\\site-packages\\sklearn\\linear_model\\_coordinate_descent.py:530: ConvergenceWarning: Objective did not converge. You might want to increase the number of iterations. Duality gap: 1450020514.5053341, tolerance: 6697013.684972001\n",
      "  model = cd_fast.enet_coordinate_descent(\n",
      "C:\\ProgramData\\Anaconda3\\lib\\site-packages\\sklearn\\linear_model\\_coordinate_descent.py:530: ConvergenceWarning: Objective did not converge. You might want to increase the number of iterations. Duality gap: 1449928227.447742, tolerance: 6683381.35149818\n",
      "  model = cd_fast.enet_coordinate_descent(\n",
      "C:\\ProgramData\\Anaconda3\\lib\\site-packages\\sklearn\\linear_model\\_coordinate_descent.py:530: ConvergenceWarning: Objective did not converge. You might want to increase the number of iterations. Duality gap: 1496211819.2562568, tolerance: 6704284.511150722\n",
      "  model = cd_fast.enet_coordinate_descent(\n",
      "C:\\ProgramData\\Anaconda3\\lib\\site-packages\\sklearn\\linear_model\\_coordinate_descent.py:530: ConvergenceWarning: Objective did not converge. You might want to increase the number of iterations. Duality gap: 1486117252.0695179, tolerance: 6673644.260245062\n",
      "  model = cd_fast.enet_coordinate_descent(\n",
      "C:\\ProgramData\\Anaconda3\\lib\\site-packages\\sklearn\\linear_model\\_coordinate_descent.py:530: ConvergenceWarning: Objective did not converge. You might want to increase the number of iterations. Duality gap: 1484872693.5979705, tolerance: 6748535.679157823\n",
      "  model = cd_fast.enet_coordinate_descent(\n"
     ]
    }
   ],
   "source": [
    "df_models_2 = pd.DataFrame(columns=['model', 'run_time', 'rmse'])\n",
    "\n",
    "for key in regressors:\n",
    "\n",
    "    print('*',key)\n",
    "\n",
    "    start_time = time.time()\n",
    "\n",
    "    regressor = regressors[key]\n",
    "    model = regressor.fit(x2_train, y2_train)\n",
    "    y2_pred = model.predict(x2_test)\n",
    "\n",
    "    scores = cross_val_score(model, \n",
    "                             x2_train, \n",
    "                             y2_train,\n",
    "                             scoring=\"neg_mean_squared_error\", \n",
    "                             cv=10)\n",
    "\n",
    "    row = {'model': key,\n",
    "           'run_time': format(round((time.time() - start_time)/60,2)),\n",
    "           'rmse': round(np.sqrt(mean_squared_error(y2_test, y2_pred)))\n",
    "    }\n",
    "\n",
    "    df_models_2 = df_models_2.append(row, ignore_index=True)"
   ]
  },
  {
   "cell_type": "code",
   "execution_count": 67,
   "id": "da52f305",
   "metadata": {},
   "outputs": [
    {
     "data": {
      "text/html": [
       "<div>\n",
       "<style scoped>\n",
       "    .dataframe tbody tr th:only-of-type {\n",
       "        vertical-align: middle;\n",
       "    }\n",
       "\n",
       "    .dataframe tbody tr th {\n",
       "        vertical-align: top;\n",
       "    }\n",
       "\n",
       "    .dataframe thead th {\n",
       "        text-align: right;\n",
       "    }\n",
       "</style>\n",
       "<table border=\"1\" class=\"dataframe\">\n",
       "  <thead>\n",
       "    <tr style=\"text-align: right;\">\n",
       "      <th></th>\n",
       "      <th>model</th>\n",
       "      <th>run_time</th>\n",
       "      <th>rmse</th>\n",
       "    </tr>\n",
       "  </thead>\n",
       "  <tbody>\n",
       "    <tr>\n",
       "      <th>1</th>\n",
       "      <td>RandomForestRegressor</td>\n",
       "      <td>0.03</td>\n",
       "      <td>20</td>\n",
       "    </tr>\n",
       "    <tr>\n",
       "      <th>2</th>\n",
       "      <td>DecisionTreeRegressor</td>\n",
       "      <td>0.0</td>\n",
       "      <td>34</td>\n",
       "    </tr>\n",
       "    <tr>\n",
       "      <th>0</th>\n",
       "      <td>XGBRegressor</td>\n",
       "      <td>0.01</td>\n",
       "      <td>36</td>\n",
       "    </tr>\n",
       "    <tr>\n",
       "      <th>6</th>\n",
       "      <td>Ridge</td>\n",
       "      <td>0.0</td>\n",
       "      <td>1867</td>\n",
       "    </tr>\n",
       "    <tr>\n",
       "      <th>7</th>\n",
       "      <td>Lars</td>\n",
       "      <td>0.0</td>\n",
       "      <td>1867</td>\n",
       "    </tr>\n",
       "    <tr>\n",
       "      <th>11</th>\n",
       "      <td>ARDRegression</td>\n",
       "      <td>0.0</td>\n",
       "      <td>1867</td>\n",
       "    </tr>\n",
       "    <tr>\n",
       "      <th>12</th>\n",
       "      <td>BayesianRidge</td>\n",
       "      <td>0.0</td>\n",
       "      <td>1867</td>\n",
       "    </tr>\n",
       "    <tr>\n",
       "      <th>13</th>\n",
       "      <td>ElasticNet</td>\n",
       "      <td>0.0</td>\n",
       "      <td>1867</td>\n",
       "    </tr>\n",
       "    <tr>\n",
       "      <th>8</th>\n",
       "      <td>TheilSenRegressor</td>\n",
       "      <td>0.08</td>\n",
       "      <td>1880</td>\n",
       "    </tr>\n",
       "    <tr>\n",
       "      <th>14</th>\n",
       "      <td>OrthogonalMatchingPursuit</td>\n",
       "      <td>0.0</td>\n",
       "      <td>2035</td>\n",
       "    </tr>\n",
       "    <tr>\n",
       "      <th>9</th>\n",
       "      <td>HuberRegressor</td>\n",
       "      <td>0.0</td>\n",
       "      <td>2151</td>\n",
       "    </tr>\n",
       "    <tr>\n",
       "      <th>10</th>\n",
       "      <td>PassiveAggressiveRegressor</td>\n",
       "      <td>0.0</td>\n",
       "      <td>3693</td>\n",
       "    </tr>\n",
       "    <tr>\n",
       "      <th>3</th>\n",
       "      <td>GaussianProcessRegressor</td>\n",
       "      <td>0.02</td>\n",
       "      <td>8052</td>\n",
       "    </tr>\n",
       "    <tr>\n",
       "      <th>5</th>\n",
       "      <td>NuSVR</td>\n",
       "      <td>0.01</td>\n",
       "      <td>8660</td>\n",
       "    </tr>\n",
       "    <tr>\n",
       "      <th>4</th>\n",
       "      <td>SVR</td>\n",
       "      <td>0.01</td>\n",
       "      <td>9158</td>\n",
       "    </tr>\n",
       "  </tbody>\n",
       "</table>\n",
       "</div>"
      ],
      "text/plain": [
       "                         model run_time  rmse\n",
       "1        RandomForestRegressor     0.03    20\n",
       "2        DecisionTreeRegressor      0.0    34\n",
       "0                 XGBRegressor     0.01    36\n",
       "6                        Ridge      0.0  1867\n",
       "7                         Lars      0.0  1867\n",
       "11               ARDRegression      0.0  1867\n",
       "12               BayesianRidge      0.0  1867\n",
       "13                  ElasticNet      0.0  1867\n",
       "8            TheilSenRegressor     0.08  1880\n",
       "14   OrthogonalMatchingPursuit      0.0  2035\n",
       "9               HuberRegressor      0.0  2151\n",
       "10  PassiveAggressiveRegressor      0.0  3693\n",
       "3     GaussianProcessRegressor     0.02  8052\n",
       "5                        NuSVR     0.01  8660\n",
       "4                          SVR     0.01  9158"
      ]
     },
     "execution_count": 67,
     "metadata": {},
     "output_type": "execute_result"
    }
   ],
   "source": [
    "# Order model results\n",
    "\n",
    "df_models_2.head(20).sort_values(by='rmse', ascending=True)"
   ]
  },
  {
   "cell_type": "markdown",
   "id": "c146a7a8",
   "metadata": {},
   "source": [
    "The <b>Root Mean Square Error (RMSE)</b> is a measure of model accuracy. The lower the RMSE, the better because this indicates that there are low errors between the actual values and the predicted values. The <b>RandomForestRegressor</b> had the lowest RMSE for both sets of predictor variables (with and without the ```day``` column). However, both have an RMSE of 20, which means that ```day``` has no predictive power* in the regression since the accuracy did not improve.\n",
    "\n",
    "In the codes that follow, I will be using the RandomForestRegressor <i>without</i> dates a predictor variable in predicting the next price.\n",
    "\n",
    "*<i>Further statistical analysis is needed to confirm this.</i>"
   ]
  },
  {
   "cell_type": "code",
   "execution_count": 69,
   "id": "0ba63d53",
   "metadata": {},
   "outputs": [],
   "source": [
    "# Assess the best model\n",
    "\n",
    "regressor = RandomForestRegressor()\n",
    "model = regressor.fit(x2_train, y2_train)\n",
    "y2_pred = model.predict(x2_test)"
   ]
  },
  {
   "cell_type": "code",
   "execution_count": 93,
   "id": "c5fbdddb",
   "metadata": {},
   "outputs": [
    {
     "data": {
      "text/html": [
       "<div>\n",
       "<style scoped>\n",
       "    .dataframe tbody tr th:only-of-type {\n",
       "        vertical-align: middle;\n",
       "    }\n",
       "\n",
       "    .dataframe tbody tr th {\n",
       "        vertical-align: top;\n",
       "    }\n",
       "\n",
       "    .dataframe thead th {\n",
       "        text-align: right;\n",
       "    }\n",
       "</style>\n",
       "<table border=\"1\" class=\"dataframe\">\n",
       "  <thead>\n",
       "    <tr style=\"text-align: right;\">\n",
       "      <th></th>\n",
       "      <th>count</th>\n",
       "      <th>mean</th>\n",
       "      <th>std</th>\n",
       "      <th>min</th>\n",
       "      <th>25%</th>\n",
       "      <th>50%</th>\n",
       "      <th>75%</th>\n",
       "      <th>max</th>\n",
       "    </tr>\n",
       "  </thead>\n",
       "  <tbody>\n",
       "    <tr>\n",
       "      <th>Predicted price</th>\n",
       "      <td>439.0</td>\n",
       "      <td>11155.955704</td>\n",
       "      <td>8670.845191</td>\n",
       "      <td>856.297</td>\n",
       "      <td>1490.1287</td>\n",
       "      <td>14193.3698</td>\n",
       "      <td>22452.8</td>\n",
       "      <td>22452.8</td>\n",
       "    </tr>\n",
       "    <tr>\n",
       "      <th>Actual price</th>\n",
       "      <td>439.0</td>\n",
       "      <td>11161.494032</td>\n",
       "      <td>8671.443153</td>\n",
       "      <td>855.840</td>\n",
       "      <td>1497.5950</td>\n",
       "      <td>14191.4300</td>\n",
       "      <td>22452.8</td>\n",
       "      <td>22452.8</td>\n",
       "    </tr>\n",
       "  </tbody>\n",
       "</table>\n",
       "</div>"
      ],
      "text/plain": [
       "                 count          mean          std      min        25%  \\\n",
       "Predicted price  439.0  11155.955704  8670.845191  856.297  1490.1287   \n",
       "Actual price     439.0  11161.494032  8671.443153  855.840  1497.5950   \n",
       "\n",
       "                        50%      75%      max  \n",
       "Predicted price  14193.3698  22452.8  22452.8  \n",
       "Actual price     14191.4300  22452.8  22452.8  "
      ]
     },
     "execution_count": 93,
     "metadata": {},
     "output_type": "execute_result"
    }
   ],
   "source": [
    "# Compare actual and predicted prices\n",
    "\n",
    "test = pd.DataFrame({'Predicted price':y2_pred, 'Actual price':y2_test})\n",
    "test = test.reset_index()\n",
    "test = test.drop(['index'],axis=1)\n",
    "test.describe().T"
   ]
  },
  {
   "cell_type": "markdown",
   "id": "6df3384f",
   "metadata": {},
   "source": [
    "Because the RMSE is low and the range of prices is high (values range from ~850 to ~22450), differences in predicted and actual values are not easily seen in a line plot. For ease of comparison, below are two line plots - one for values < 1500 (below first quartile) and one for values > 14200 (above median)."
   ]
  },
  {
   "cell_type": "code",
   "execution_count": 107,
   "id": "4e165cd4",
   "metadata": {},
   "outputs": [
    {
     "data": {
      "text/plain": [
       "<matplotlib.legend.Legend at 0x1bfa80bcb50>"
      ]
     },
     "execution_count": 107,
     "metadata": {},
     "output_type": "execute_result"
    },
    {
     "data": {
      "image/png": "[encoded data removed]",
      "text/plain": [
       "<Figure size 1152x576 with 1 Axes>"
      ]
     },
     "metadata": {
      "needs_background": "light"
     },
     "output_type": "display_data"
    }
   ],
   "source": [
    "test_low = test[(test['Predicted price'] < 1500) | (test['Actual price'] < 1500)]\n",
    "fig= plt.figure(figsize=(16,8))\n",
    "plt.plot(test_low[:40])\n",
    "plt.legend(['Predicted price','Actual price'])"
   ]
  },
  {
   "cell_type": "code",
   "execution_count": 108,
   "id": "9767b472",
   "metadata": {},
   "outputs": [
    {
     "data": {
      "text/plain": [
       "<matplotlib.legend.Legend at 0x1bfa82c1f10>"
      ]
     },
     "execution_count": 108,
     "metadata": {},
     "output_type": "execute_result"
    },
    {
     "data": {
      "image/png": "[encoded data removed]",
      "text/plain": [
       "<Figure size 1152x576 with 1 Axes>"
      ]
     },
     "metadata": {
      "needs_background": "light"
     },
     "output_type": "display_data"
    }
   ],
   "source": [
    "test_high = test[(test['Predicted price'] > 14200) | (test['Actual price'] > 14200)]\n",
    "fig= plt.figure(figsize=(16,8))\n",
    "plt.plot(test_high[:40])\n",
    "plt.legend(['Predicted price','Actual price'])"
   ]
  },
  {
   "cell_type": "markdown",
   "id": "5ab88db7",
   "metadata": {},
   "source": [
    "<a id='predict'></a>\n",
    "### Prediction"
   ]
  },
  {
   "cell_type": "markdown",
   "id": "96e0e444",
   "metadata": {},
   "source": [
    "Although date was not used as a predictor variable, the variables below are the assumed values <b>as of January 1, 2023</b>.\n",
    "\n",
    "The table below shows that throughout 2022, values for all variables did <b>not</b> change. It is highly likely that the number of likes, dislikes, and followers will remain the same on January 1, 2023."
   ]
  },
  {
   "cell_type": "code",
   "execution_count": 117,
   "id": "cb207193",
   "metadata": {},
   "outputs": [
    {
     "data": {
      "text/html": [
       "<div>\n",
       "<style scoped>\n",
       "    .dataframe tbody tr th:only-of-type {\n",
       "        vertical-align: middle;\n",
       "    }\n",
       "\n",
       "    .dataframe tbody tr th {\n",
       "        vertical-align: top;\n",
       "    }\n",
       "\n",
       "    .dataframe thead th {\n",
       "        text-align: right;\n",
       "    }\n",
       "</style>\n",
       "<table border=\"1\" class=\"dataframe\">\n",
       "  <thead>\n",
       "    <tr style=\"text-align: right;\">\n",
       "      <th></th>\n",
       "      <th>count</th>\n",
       "      <th>mean</th>\n",
       "      <th>std</th>\n",
       "      <th>min</th>\n",
       "      <th>25%</th>\n",
       "      <th>50%</th>\n",
       "      <th>75%</th>\n",
       "      <th>max</th>\n",
       "    </tr>\n",
       "  </thead>\n",
       "  <tbody>\n",
       "    <tr>\n",
       "      <th>price</th>\n",
       "      <td>365.0</td>\n",
       "      <td>22452.8</td>\n",
       "      <td>1.311470e-10</td>\n",
       "      <td>22452.8</td>\n",
       "      <td>22452.8</td>\n",
       "      <td>22452.8</td>\n",
       "      <td>22452.8</td>\n",
       "      <td>22452.8</td>\n",
       "    </tr>\n",
       "    <tr>\n",
       "      <th>likes</th>\n",
       "      <td>365.0</td>\n",
       "      <td>10924.0</td>\n",
       "      <td>0.000000e+00</td>\n",
       "      <td>10924.0</td>\n",
       "      <td>10924.0</td>\n",
       "      <td>10924.0</td>\n",
       "      <td>10924.0</td>\n",
       "      <td>10924.0</td>\n",
       "    </tr>\n",
       "    <tr>\n",
       "      <th>dislikes</th>\n",
       "      <td>365.0</td>\n",
       "      <td>1496.0</td>\n",
       "      <td>0.000000e+00</td>\n",
       "      <td>1496.0</td>\n",
       "      <td>1496.0</td>\n",
       "      <td>1496.0</td>\n",
       "      <td>1496.0</td>\n",
       "      <td>1496.0</td>\n",
       "    </tr>\n",
       "    <tr>\n",
       "      <th>followers</th>\n",
       "      <td>365.0</td>\n",
       "      <td>17468.0</td>\n",
       "      <td>0.000000e+00</td>\n",
       "      <td>17468.0</td>\n",
       "      <td>17468.0</td>\n",
       "      <td>17468.0</td>\n",
       "      <td>17468.0</td>\n",
       "      <td>17468.0</td>\n",
       "    </tr>\n",
       "    <tr>\n",
       "      <th>day</th>\n",
       "      <td>365.0</td>\n",
       "      <td>1278.0</td>\n",
       "      <td>1.055107e+02</td>\n",
       "      <td>1096.0</td>\n",
       "      <td>1187.0</td>\n",
       "      <td>1278.0</td>\n",
       "      <td>1369.0</td>\n",
       "      <td>1460.0</td>\n",
       "    </tr>\n",
       "  </tbody>\n",
       "</table>\n",
       "</div>"
      ],
      "text/plain": [
       "           count     mean           std      min      25%      50%      75%  \\\n",
       "price      365.0  22452.8  1.311470e-10  22452.8  22452.8  22452.8  22452.8   \n",
       "likes      365.0  10924.0  0.000000e+00  10924.0  10924.0  10924.0  10924.0   \n",
       "dislikes   365.0   1496.0  0.000000e+00   1496.0   1496.0   1496.0   1496.0   \n",
       "followers  365.0  17468.0  0.000000e+00  17468.0  17468.0  17468.0  17468.0   \n",
       "day        365.0   1278.0  1.055107e+02   1096.0   1187.0   1278.0   1369.0   \n",
       "\n",
       "               max  \n",
       "price      22452.8  \n",
       "likes      10924.0  \n",
       "dislikes    1496.0  \n",
       "followers  17468.0  \n",
       "day         1460.0  "
      ]
     },
     "execution_count": 117,
     "metadata": {},
     "output_type": "execute_result"
    }
   ],
   "source": [
    "# 2022 values\n",
    "\n",
    "df2022 = df[df['date'].str[:4] == '2022']\n",
    "df2022.describe().T"
   ]
  },
  {
   "cell_type": "code",
   "execution_count": 118,
   "id": "c720d206",
   "metadata": {},
   "outputs": [
    {
     "data": {
      "text/html": [
       "<div>\n",
       "<style scoped>\n",
       "    .dataframe tbody tr th:only-of-type {\n",
       "        vertical-align: middle;\n",
       "    }\n",
       "\n",
       "    .dataframe tbody tr th {\n",
       "        vertical-align: top;\n",
       "    }\n",
       "\n",
       "    .dataframe thead th {\n",
       "        text-align: right;\n",
       "    }\n",
       "</style>\n",
       "<table border=\"1\" class=\"dataframe\">\n",
       "  <thead>\n",
       "    <tr style=\"text-align: right;\">\n",
       "      <th></th>\n",
       "      <th>date</th>\n",
       "      <th>price</th>\n",
       "      <th>likes</th>\n",
       "      <th>dislikes</th>\n",
       "      <th>followers</th>\n",
       "      <th>day</th>\n",
       "    </tr>\n",
       "  </thead>\n",
       "  <tbody>\n",
       "    <tr>\n",
       "      <th>1456</th>\n",
       "      <td>2022-12-27</td>\n",
       "      <td>22452.8</td>\n",
       "      <td>10924</td>\n",
       "      <td>1496</td>\n",
       "      <td>17468</td>\n",
       "      <td>1456</td>\n",
       "    </tr>\n",
       "    <tr>\n",
       "      <th>1457</th>\n",
       "      <td>2022-12-28</td>\n",
       "      <td>22452.8</td>\n",
       "      <td>10924</td>\n",
       "      <td>1496</td>\n",
       "      <td>17468</td>\n",
       "      <td>1457</td>\n",
       "    </tr>\n",
       "    <tr>\n",
       "      <th>1458</th>\n",
       "      <td>2022-12-29</td>\n",
       "      <td>22452.8</td>\n",
       "      <td>10924</td>\n",
       "      <td>1496</td>\n",
       "      <td>17468</td>\n",
       "      <td>1458</td>\n",
       "    </tr>\n",
       "    <tr>\n",
       "      <th>1459</th>\n",
       "      <td>2022-12-30</td>\n",
       "      <td>22452.8</td>\n",
       "      <td>10924</td>\n",
       "      <td>1496</td>\n",
       "      <td>17468</td>\n",
       "      <td>1459</td>\n",
       "    </tr>\n",
       "    <tr>\n",
       "      <th>1460</th>\n",
       "      <td>2022-12-31</td>\n",
       "      <td>22452.8</td>\n",
       "      <td>10924</td>\n",
       "      <td>1496</td>\n",
       "      <td>17468</td>\n",
       "      <td>1460</td>\n",
       "    </tr>\n",
       "  </tbody>\n",
       "</table>\n",
       "</div>"
      ],
      "text/plain": [
       "            date    price  likes  dislikes  followers   day\n",
       "1456  2022-12-27  22452.8  10924      1496      17468  1456\n",
       "1457  2022-12-28  22452.8  10924      1496      17468  1457\n",
       "1458  2022-12-29  22452.8  10924      1496      17468  1458\n",
       "1459  2022-12-30  22452.8  10924      1496      17468  1459\n",
       "1460  2022-12-31  22452.8  10924      1496      17468  1460"
      ]
     },
     "execution_count": 118,
     "metadata": {},
     "output_type": "execute_result"
    }
   ],
   "source": [
    "df2022.tail()"
   ]
  },
  {
   "cell_type": "code",
   "execution_count": 126,
   "id": "ce2f96a3",
   "metadata": {},
   "outputs": [
    {
     "name": "stdout",
     "output_type": "stream",
     "text": [
      "The predicted price is $ [22452.8] CAD.\n"
     ]
    }
   ],
   "source": [
    "# Scenario 1: All predictor variables will stay the same as the values as of December 31, 2022\n",
    "\n",
    "temp_data = {'likes' : [10924],\n",
    "             'dislikes' : [1496],\n",
    "             'followers' : [17468]\n",
    "            }\n",
    "\n",
    "df_price_input = pd.DataFrame(temp_data, columns = ['likes', 'dislikes', 'followers'])\n",
    "df_price_prediction_result = model.predict(df_price_input)\n",
    "print(\"The predicted price is $ \" + str(df_price_prediction_result) + \" CAD.\")"
   ]
  },
  {
   "cell_type": "markdown",
   "id": "4eb1a212",
   "metadata": {},
   "source": [
    "Because price was steady throughout 2022 and because the model has a low RMSE, a price prediction that is exactly the same as the price in 2022 is unsurprising.\n",
    "\n",
    "The table below shows that the last price change was on December 30, 2021, when the price increased from 22,341.09 to 22,452.80. The following changes were also observed between December 30, 2021 and December 31, 2021:\n",
    ">Likes increased by 4<br>\n",
    "Dislikes increased by 1<br>\n",
    "Followers increased by 3"
   ]
  },
  {
   "cell_type": "code",
   "execution_count": 135,
   "id": "c4d907e4",
   "metadata": {},
   "outputs": [
    {
     "data": {
      "text/html": [
       "<div>\n",
       "<style scoped>\n",
       "    .dataframe tbody tr th:only-of-type {\n",
       "        vertical-align: middle;\n",
       "    }\n",
       "\n",
       "    .dataframe tbody tr th {\n",
       "        vertical-align: top;\n",
       "    }\n",
       "\n",
       "    .dataframe thead th {\n",
       "        text-align: right;\n",
       "    }\n",
       "</style>\n",
       "<table border=\"1\" class=\"dataframe\">\n",
       "  <thead>\n",
       "    <tr style=\"text-align: right;\">\n",
       "      <th></th>\n",
       "      <th>date</th>\n",
       "      <th>price</th>\n",
       "      <th>likes</th>\n",
       "      <th>dislikes</th>\n",
       "      <th>followers</th>\n",
       "      <th>day</th>\n",
       "    </tr>\n",
       "  </thead>\n",
       "  <tbody>\n",
       "    <tr>\n",
       "      <th>1091</th>\n",
       "      <td>2021-12-27</td>\n",
       "      <td>22009.29</td>\n",
       "      <td>10908</td>\n",
       "      <td>1492</td>\n",
       "      <td>17456</td>\n",
       "      <td>1091</td>\n",
       "    </tr>\n",
       "    <tr>\n",
       "      <th>1092</th>\n",
       "      <td>2021-12-28</td>\n",
       "      <td>22119.34</td>\n",
       "      <td>10912</td>\n",
       "      <td>1493</td>\n",
       "      <td>17459</td>\n",
       "      <td>1092</td>\n",
       "    </tr>\n",
       "    <tr>\n",
       "      <th>1093</th>\n",
       "      <td>2021-12-29</td>\n",
       "      <td>22229.94</td>\n",
       "      <td>10916</td>\n",
       "      <td>1494</td>\n",
       "      <td>17462</td>\n",
       "      <td>1093</td>\n",
       "    </tr>\n",
       "    <tr>\n",
       "      <th>1094</th>\n",
       "      <td>2021-12-30</td>\n",
       "      <td>22341.09</td>\n",
       "      <td>10920</td>\n",
       "      <td>1495</td>\n",
       "      <td>17465</td>\n",
       "      <td>1094</td>\n",
       "    </tr>\n",
       "    <tr>\n",
       "      <th>1095</th>\n",
       "      <td>2021-12-31</td>\n",
       "      <td>22452.80</td>\n",
       "      <td>10924</td>\n",
       "      <td>1496</td>\n",
       "      <td>17468</td>\n",
       "      <td>1095</td>\n",
       "    </tr>\n",
       "    <tr>\n",
       "      <th>1096</th>\n",
       "      <td>2022-01-01</td>\n",
       "      <td>22452.80</td>\n",
       "      <td>10924</td>\n",
       "      <td>1496</td>\n",
       "      <td>17468</td>\n",
       "      <td>1096</td>\n",
       "    </tr>\n",
       "    <tr>\n",
       "      <th>1097</th>\n",
       "      <td>2022-01-02</td>\n",
       "      <td>22452.80</td>\n",
       "      <td>10924</td>\n",
       "      <td>1496</td>\n",
       "      <td>17468</td>\n",
       "      <td>1097</td>\n",
       "    </tr>\n",
       "    <tr>\n",
       "      <th>1098</th>\n",
       "      <td>2022-01-03</td>\n",
       "      <td>22452.80</td>\n",
       "      <td>10924</td>\n",
       "      <td>1496</td>\n",
       "      <td>17468</td>\n",
       "      <td>1098</td>\n",
       "    </tr>\n",
       "    <tr>\n",
       "      <th>1099</th>\n",
       "      <td>2022-01-04</td>\n",
       "      <td>22452.80</td>\n",
       "      <td>10924</td>\n",
       "      <td>1496</td>\n",
       "      <td>17468</td>\n",
       "      <td>1099</td>\n",
       "    </tr>\n",
       "  </tbody>\n",
       "</table>\n",
       "</div>"
      ],
      "text/plain": [
       "            date     price  likes  dislikes  followers   day\n",
       "1091  2021-12-27  22009.29  10908      1492      17456  1091\n",
       "1092  2021-12-28  22119.34  10912      1493      17459  1092\n",
       "1093  2021-12-29  22229.94  10916      1494      17462  1093\n",
       "1094  2021-12-30  22341.09  10920      1495      17465  1094\n",
       "1095  2021-12-31  22452.80  10924      1496      17468  1095\n",
       "1096  2022-01-01  22452.80  10924      1496      17468  1096\n",
       "1097  2022-01-02  22452.80  10924      1496      17468  1097\n",
       "1098  2022-01-03  22452.80  10924      1496      17468  1098\n",
       "1099  2022-01-04  22452.80  10924      1496      17468  1099"
      ]
     },
     "execution_count": 135,
     "metadata": {},
     "output_type": "execute_result"
    }
   ],
   "source": [
    "df[(df['day'] > 1090) & (df['day'] < 1100)]"
   ]
  },
  {
   "cell_type": "markdown",
   "id": "2c746c6c",
   "metadata": {},
   "source": [
    "Scenario 2 assumes that these three variables change by the same amount on January 1, 2023."
   ]
  },
  {
   "cell_type": "code",
   "execution_count": 127,
   "id": "0cd35fea",
   "metadata": {},
   "outputs": [
    {
     "name": "stdout",
     "output_type": "stream",
     "text": [
      "The predicted price is $ [22452.8] CAD.\n"
     ]
    }
   ],
   "source": [
    "# Scenario 2: All predictor variables change by the same amounts indicated above\n",
    "\n",
    "temp_data = {'likes' : [10928],\n",
    "             'dislikes' : [1497],\n",
    "             'followers' : [17471]\n",
    "            }\n",
    "\n",
    "df_price_input = pd.DataFrame(temp_data, columns = ['likes', 'dislikes', 'followers'])\n",
    "df_price_prediction_result = model.predict(df_price_input)\n",
    "print(\"The predicted price is $ \" + str(df_price_prediction_result) + \" CAD.\")"
   ]
  },
  {
   "cell_type": "markdown",
   "id": "ff8df834",
   "metadata": {},
   "source": [
    "Scenario 2 shows that even with the same changes in the three variables, the price is predicted to remain the same."
   ]
  }
 ],
 "metadata": {
  "kernelspec": {
   "display_name": "Python 3 (ipykernel)",
   "language": "python",
   "name": "python3"
  },
  "language_info": {
   "codemirror_mode": {
    "name": "ipython",
    "version": 3
   },
   "file_extension": ".py",
   "mimetype": "text/x-python",
   "name": "python",
   "nbconvert_exporter": "python",
   "pygments_lexer": "ipython3",
   "version": "3.9.7"
  }
 },
 "nbformat": 4,
 "nbformat_minor": 5
}
